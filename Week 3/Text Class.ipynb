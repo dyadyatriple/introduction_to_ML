{
 "cells": [
  {
   "cell_type": "code",
   "execution_count": 43,
   "id": "5b0f8ede",
   "metadata": {},
   "outputs": [],
   "source": [
    "from sklearn import datasets\n",
    "from sklearn.svm import SVC\n",
    "from sklearn.feature_extraction.text import TfidfVectorizer\n",
    "from sklearn.model_selection import GridSearchCV,KFold\n",
    "import numpy as np\n",
    "import pandas as pd"
   ]
  },
  {
   "cell_type": "code",
   "execution_count": 12,
   "id": "f67c02f9",
   "metadata": {},
   "outputs": [],
   "source": [
    "new_groups=datasets.fetch_20newsgroups(subset='all', \n",
    "                    categories=['alt.atheism', 'sci.space'])"
   ]
  },
  {
   "cell_type": "code",
   "execution_count": 6,
   "id": "f3f419ac",
   "metadata": {},
   "outputs": [
    {
     "data": {
      "text/plain": [
       "<1786x28382 sparse matrix of type '<class 'numpy.float64'>'\n",
       "\twith 303138 stored elements in Compressed Sparse Row format>"
      ]
     },
     "execution_count": 6,
     "metadata": {},
     "output_type": "execute_result"
    }
   ],
   "source": [
    "x=new_groups.data\n",
    "y=new_groups.target\n",
    "tfid=TfidfVectorizer()\n",
    "tfid.fit_transform(x)"
   ]
  },
  {
   "cell_type": "code",
   "execution_count": 18,
   "id": "58678bbd",
   "metadata": {},
   "outputs": [
    {
     "data": {
      "text/plain": [
       "GridSearchCV(cv=KFold(n_splits=5, random_state=241, shuffle=True),\n",
       "             estimator=SVC(kernel='linear', random_state=241),\n",
       "             param_grid={'C': array([1.e-05, 1.e-04, 1.e-03, 1.e-02, 1.e-01, 1.e+00, 1.e+01, 1.e+02,\n",
       "       1.e+03, 1.e+04, 1.e+05])},\n",
       "             scoring='accuracy')"
      ]
     },
     "execution_count": 18,
     "metadata": {},
     "output_type": "execute_result"
    }
   ],
   "source": [
    "cv=KFold(shuffle=True,random_state=241)\n",
    "grid={'C':np.power (10.0, np.arange(-5,6))}\n",
    "clf=SVC(kernel='linear',random_state=241)\n",
    "gsc=GridSearchCV(estimator=clf,param_grid=grid,cv=cv,scoring='accuracy')\n",
    "gsc.fit(tfid.transform(x),y)"
   ]
  },
  {
   "cell_type": "code",
   "execution_count": 20,
   "id": "da548dbe",
   "metadata": {},
   "outputs": [],
   "source": [
    "best_C=gsc.best_params_['C']"
   ]
  },
  {
   "cell_type": "code",
   "execution_count": 21,
   "id": "9e350b37",
   "metadata": {},
   "outputs": [],
   "source": [
    "def save_answer(filename,answer):\n",
    "    with open(filename+'.txt','w') as f:\n",
    "        f.write(str(answer))"
   ]
  },
  {
   "cell_type": "code",
   "execution_count": 22,
   "id": "4a79e69c",
   "metadata": {},
   "outputs": [],
   "source": [
    "save_answer('best_C',best_C)"
   ]
  },
  {
   "cell_type": "code",
   "execution_count": 23,
   "id": "878e6d30",
   "metadata": {},
   "outputs": [],
   "source": [
    "estimator=gsc.best_estimator_"
   ]
  },
  {
   "cell_type": "code",
   "execution_count": 26,
   "id": "9dc7761d",
   "metadata": {},
   "outputs": [
    {
     "data": {
      "text/plain": [
       "SVC(kernel='linear', random_state=241)"
      ]
     },
     "execution_count": 26,
     "metadata": {},
     "output_type": "execute_result"
    }
   ],
   "source": [
    "estimator.fit(tfid.transform(x),y)"
   ]
  },
  {
   "cell_type": "code",
   "execution_count": 75,
   "id": "6e7e4988",
   "metadata": {},
   "outputs": [],
   "source": [
    "coefs=pd.DataFrame({'index':estimator.coef_.indices,\n",
    "'weight':estimator.coef_.data})\n",
    "coefs['weight']=coefs['weight'].apply(lambda x:abs(x))"
   ]
  },
  {
   "cell_type": "code",
   "execution_count": 76,
   "id": "e24a28bb",
   "metadata": {},
   "outputs": [],
   "source": [
    "coefs.sort_values(by='weight',axis=0,ascending=False,inplace=True)"
   ]
  },
  {
   "cell_type": "code",
   "execution_count": 77,
   "id": "ea215c7d",
   "metadata": {},
   "outputs": [],
   "source": [
    "best_idx=coefs.iloc[0:10,:]['index'].to_numpy()"
   ]
  },
  {
   "cell_type": "code",
   "execution_count": 80,
   "id": "eb7adb4e",
   "metadata": {},
   "outputs": [],
   "source": [
    "answer=' '.join(np.sort(np.array(tfid.get_feature_names())[best_idx]))"
   ]
  },
  {
   "cell_type": "code",
   "execution_count": 82,
   "id": "cbd8ec26",
   "metadata": {},
   "outputs": [],
   "source": [
    "save_answer('best words',answer)"
   ]
  },
  {
   "cell_type": "code",
   "execution_count": null,
   "id": "2dd0457d",
   "metadata": {},
   "outputs": [],
   "source": []
  }
 ],
 "metadata": {
  "kernelspec": {
   "display_name": "Python 3",
   "language": "python",
   "name": "python3"
  },
  "language_info": {
   "codemirror_mode": {
    "name": "ipython",
    "version": 3
   },
   "file_extension": ".py",
   "mimetype": "text/x-python",
   "name": "python",
   "nbconvert_exporter": "python",
   "pygments_lexer": "ipython3",
   "version": "3.8.8"
  }
 },
 "nbformat": 4,
 "nbformat_minor": 5
}
