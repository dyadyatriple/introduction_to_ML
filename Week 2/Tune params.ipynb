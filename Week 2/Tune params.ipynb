{
 "cells": [
  {
   "cell_type": "code",
   "execution_count": 1,
   "id": "794ecfc2",
   "metadata": {},
   "outputs": [],
   "source": [
    "from sklearn.datasets import load_boston\n",
    "from sklearn.preprocessing import scale\n",
    "from sklearn.neighbors import KNeighborsRegressor\n",
    "from sklearn.model_selection import KFold,GridSearchCV,cross_val_score\n",
    "import numpy as np"
   ]
  },
  {
   "cell_type": "code",
   "execution_count": 2,
   "id": "68f4b8fa",
   "metadata": {},
   "outputs": [],
   "source": [
    "def save_answer(filename,answer):\n",
    "    with open(filename+'.txt','w') as f:\n",
    "        f.write(str(answer))"
   ]
  },
  {
   "cell_type": "code",
   "execution_count": 3,
   "id": "657e179d",
   "metadata": {},
   "outputs": [],
   "source": [
    "data=load_boston()"
   ]
  },
  {
   "cell_type": "code",
   "execution_count": 4,
   "id": "0f6cab09",
   "metadata": {},
   "outputs": [],
   "source": [
    "X=scale(data.data)\n",
    "y=data.target"
   ]
  },
  {
   "cell_type": "code",
   "execution_count": 5,
   "id": "8a511fbf",
   "metadata": {},
   "outputs": [],
   "source": [
    "def tune_hyp_p(X,y):\n",
    "    mse='neg_mean_squared_error'\n",
    "    cv=KFold(shuffle=True,random_state=42)\n",
    "    clf=KNeighborsRegressor(weights='distance')\n",
    "    gs=GridSearchCV(estimator=clf,\n",
    "                   param_grid={'p':np.linspace(1,10,200)},\n",
    "                   cv=cv,\n",
    "                   scoring=mse,\n",
    "                   n_jobs=-1)\n",
    "    gs.fit(X,y)\n",
    "    est=gs.best_estimator_\n",
    "    cvs=cross_val_score(estimator=est,X=X,y=y,cv=cv,scoring=mse)\n",
    "    return gs.best_params_,round(cvs.mean(),2)"
   ]
  },
  {
   "cell_type": "code",
   "execution_count": 6,
   "id": "3cc6bae9",
   "metadata": {},
   "outputs": [],
   "source": [
    "p,score=tune_hyp_p(X,y)"
   ]
  },
  {
   "cell_type": "code",
   "execution_count": 7,
   "id": "a0a0b26d",
   "metadata": {},
   "outputs": [
    {
     "data": {
      "text/plain": [
       "({'p': 1.0}, -16.03)"
      ]
     },
     "execution_count": 7,
     "metadata": {},
     "output_type": "execute_result"
    }
   ],
   "source": [
    "p,score"
   ]
  },
  {
   "cell_type": "code",
   "execution_count": 9,
   "id": "54410da1",
   "metadata": {},
   "outputs": [],
   "source": [
    "save_answer('best_p',p)"
   ]
  },
  {
   "cell_type": "code",
   "execution_count": null,
   "id": "a1a2bd67",
   "metadata": {},
   "outputs": [],
   "source": []
  }
 ],
 "metadata": {
  "kernelspec": {
   "display_name": "Python 3",
   "language": "python",
   "name": "python3"
  },
  "language_info": {
   "codemirror_mode": {
    "name": "ipython",
    "version": 3
   },
   "file_extension": ".py",
   "mimetype": "text/x-python",
   "name": "python",
   "nbconvert_exporter": "python",
   "pygments_lexer": "ipython3",
   "version": "3.8.8"
  }
 },
 "nbformat": 4,
 "nbformat_minor": 5
}
