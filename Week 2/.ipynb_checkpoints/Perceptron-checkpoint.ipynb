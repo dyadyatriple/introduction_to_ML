{
 "cells": [
  {
   "cell_type": "code",
   "execution_count": 43,
   "id": "69fa3fbb",
   "metadata": {},
   "outputs": [],
   "source": [
    "from sklearn.linear_model import Perceptron\n",
    "from sklearn.preprocessing import StandardScaler\n",
    "from sklearn.metrics import accuracy_score\n",
    "import pandas as pd\n",
    "import numpy as np"
   ]
  },
  {
   "cell_type": "code",
   "execution_count": 52,
   "id": "260915f1",
   "metadata": {},
   "outputs": [],
   "source": [
    "df=pd.read_csv('./perceptron-train.csv',names=['first','second','third'])#extracting train and test data from csv files\n",
    "df1=pd.read_csv('./perceptron-test.csv',names=['first','second','third'])"
   ]
  },
  {
   "cell_type": "code",
   "execution_count": 53,
   "id": "5d522407",
   "metadata": {},
   "outputs": [],
   "source": [
    "train_data=df.to_numpy()#make numpy arrays, dividing to X - train data,y - test data\n",
    "test_data=df1.to_numpy()\n",
    "y_train=train_data[:,0]\n",
    "X_train=train_data[:,1:]\n",
    "y_test=test_data[:,0]\n",
    "X_test=test_data[:,1:]"
   ]
  },
  {
   "cell_type": "code",
   "execution_count": 54,
   "id": "1699ebb4",
   "metadata": {},
   "outputs": [],
   "source": [
    "clf=Perceptron(random_state=241, max_iter=5, tol=None)#initializing Perceptron\n",
    "clf.fit(X_train,y_train)#fitting classifier on train data\n",
    "acc=accuracy_score(y_test,clf.predict(X_test))#measuring the accuracy of model on test data"
   ]
  },
  {
   "cell_type": "code",
   "execution_count": 55,
   "id": "1db9be2b",
   "metadata": {},
   "outputs": [],
   "source": [
    "scaler=StandardScaler()#initialising scaler\n",
    "scaled_train=scaler.fit_transform(X_train)#scaling of train and test data\n",
    "scaled_test=scaler.transform(X_test)"
   ]
  },
  {
   "cell_type": "code",
   "execution_count": 56,
   "id": "445a0ba7",
   "metadata": {},
   "outputs": [],
   "source": [
    "clf.fit(scaled_train,y_train)#fitting it on scaled data\n",
    "scaled_acc=accuracy_score(y_test,clf.predict(scaled_test))#measuring the accuracy on scaled data"
   ]
  },
  {
   "cell_type": "code",
   "execution_count": 57,
   "id": "fadd0a8e",
   "metadata": {},
   "outputs": [],
   "source": [
    "delta=abs(scaled_acc-acc)"
   ]
  },
  {
   "cell_type": "code",
   "execution_count": 58,
   "id": "b60b7308",
   "metadata": {},
   "outputs": [
    {
     "data": {
      "text/plain": [
       "0.18499999999999994"
      ]
     },
     "execution_count": 58,
     "metadata": {},
     "output_type": "execute_result"
    }
   ],
   "source": [
    "delta"
   ]
  },
  {
   "cell_type": "code",
   "execution_count": 59,
   "id": "3b950f88",
   "metadata": {},
   "outputs": [
    {
     "name": "stdout",
     "output_type": "stream",
     "text": [
      "0.655 0.84\n"
     ]
    }
   ],
   "source": [
    "print(acc,scaled_acc)"
   ]
  },
  {
   "cell_type": "code",
   "execution_count": 60,
   "id": "e75d20d7",
   "metadata": {},
   "outputs": [],
   "source": [
    "def save_answer(filename,answer):\n",
    "    with open(filename+'.txt','w') as f:\n",
    "        f.write(str(round(answer,3)))"
   ]
  },
  {
   "cell_type": "code",
   "execution_count": null,
   "id": "34441d83",
   "metadata": {},
   "outputs": [],
   "source": []
  }
 ],
 "metadata": {
  "kernelspec": {
   "display_name": "Python 3",
   "language": "python",
   "name": "python3"
  },
  "language_info": {
   "codemirror_mode": {
    "name": "ipython",
    "version": 3
   },
   "file_extension": ".py",
   "mimetype": "text/x-python",
   "name": "python",
   "nbconvert_exporter": "python",
   "pygments_lexer": "ipython3",
   "version": "3.8.8"
  }
 },
 "nbformat": 4,
 "nbformat_minor": 5
}
